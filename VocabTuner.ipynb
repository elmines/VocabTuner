{
 "cells": [
  {
   "cell_type": "code",
   "execution_count": 1,
   "metadata": {},
   "outputs": [],
   "source": [
    "import cntk as C\n",
    "import numpy as np\n",
    "\n",
    "#\n",
    "import os\n",
    "import sys\n",
    "modulesPath = \"scripts\"\n",
    "modulesPath = os.path.abspath(os.path.join(modulesPath))\n",
    "if modulesPath not in sys.path: sys.path.append(modulesPath)\n",
    "    \n",
    "from bicorpus import Bicorpus\n",
    "\n",
    "#sys.getdefaultencoding()"
   ]
  },
  {
   "cell_type": "code",
   "execution_count": 2,
   "metadata": {},
   "outputs": [
    {
     "name": "stdout",
     "output_type": "stream",
     "text": [
      "Reanudación del período de sesiones\n",
      "\n",
      "Resumption of the session\n",
      "\n",
      "['reanudación', 'del', 'período', 'de', 'sesiones']\n",
      "reanudación del período de sesiones\n",
      "resumption of the session\n",
      "500 sequences read.\n",
      "1000 sequences read.\n",
      "1500 sequences read.\n",
      "2000 sequences read.\n",
      "2500 sequences read.\n",
      "3000 sequences read.\n",
      "3500 sequences read.\n",
      "4000 sequences read.\n",
      "4500 sequences read.\n",
      "5000 sequences read.\n",
      "5500 sequences read.\n",
      "6000 sequences read.\n",
      "6500 sequences read.\n",
      "7000 sequences read.\n",
      "7500 sequences read.\n",
      "8000 sequences read.\n",
      "8500 sequences read.\n",
      "9000 sequences read.\n",
      "9500 sequences read.\n",
      "10000 sequences read.\n"
     ]
    }
   ],
   "source": [
    "files = {}\n",
    "\n",
    "sourceTraining = \"corpora/europarl-v7.es-en.es\"\n",
    "destTraining = \"corpora/europarl-v7.es-en.en\"\n",
    "\n",
    "\n",
    "vocabSize = 30000\n",
    "\n",
    "def readlines_no_spacing(file):\n",
    "    lines = file.readlines()\n",
    "    #for i in range(len(lines)):\n",
    "        #lines[i] = \" \".join(lines[i].split(\"  \"))\n",
    "    return lines\n",
    "\n",
    "with open(sourceTraining, \"r\", encoding = \"utf-8\") as sourceFile:\n",
    "    sourceLines = sourceFile.readlines()\n",
    "with open(destTraining, \"r\", encoding = \"utf-8\") as destFile:\n",
    "    destLines = destFile.readlines()\n",
    "    \n",
    "#print(sourceLines[0])\n",
    "#print(destLines[0])\n",
    "\n",
    "trainingCorp = Bicorpus(sourceLines, destLines, vocabSize = vocabSize, numSequences = 10000)\n"
   ]
  },
  {
   "cell_type": "code",
   "execution_count": 3,
   "metadata": {
    "scrolled": true
   },
   "outputs": [
    {
     "name": "stdout",
     "output_type": "stream",
     "text": [
      "<class 'tuple'>\n",
      "<class 'list'>\n",
      "<class 'str'>\n",
      "declaro reanudado el período de sesiones del parlamento europeo interrumpido el viernes 17 de diciembre pasado y reitero a sus señorías mi deseo de que hayan tenido unas buenas vacaciones\n"
     ]
    }
   ],
   "source": [
    "training_lines = trainingCorp.training_lines()\n",
    "print(type(training_lines))\n",
    "print(type(training_lines[0]))\n",
    "print(type(training_lines[0][1]))\n",
    "print(training_lines[0][1])\n",
    "#for i in range(50):\n",
    " #   print(training_lines[0][i], training_lines[1][i])"
   ]
  },
  {
   "cell_type": "code",
   "execution_count": 4,
   "metadata": {},
   "outputs": [
    {
     "name": "stdout",
     "output_type": "stream",
     "text": [
      "Ethan\n"
     ]
    }
   ],
   "source": [
    "print(\"Ethan\")"
   ]
  },
  {
   "cell_type": "code",
   "execution_count": null,
   "metadata": {
    "collapsed": true
   },
   "outputs": [],
   "source": []
  }
 ],
 "metadata": {
  "kernelspec": {
   "display_name": "Python 3",
   "language": "python",
   "name": "python3"
  },
  "language_info": {
   "codemirror_mode": {
    "name": "ipython",
    "version": 3
   },
   "file_extension": ".py",
   "mimetype": "text/x-python",
   "name": "python",
   "nbconvert_exporter": "python",
   "pygments_lexer": "ipython3",
   "version": "3.6.1"
  }
 },
 "nbformat": 4,
 "nbformat_minor": 2
}
